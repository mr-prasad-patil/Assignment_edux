{
 "cells": [
  {
   "cell_type": "markdown",
   "id": "9ab7acb3",
   "metadata": {},
   "source": [
    "# Python Assignment - 2\n",
    "### Carries - 30 marks"
   ]
  },
  {
   "cell_type": "markdown",
   "id": "d4122e1a",
   "metadata": {},
   "source": [
    "## What is List? How will you reverse a list?"
   ]
  },
  {
   "cell_type": "markdown",
   "id": "1aa9363a",
   "metadata": {},
   "source": [
    "1) A list in Python is a collection of ordered and mutable elements. Lists are one of the most commonly used data structures in Python and can contain items of different data types, such as integers, strings, floats, or even other lists. Lists are defined using square brackets [] and can store zero or more elements separated by commas.\n",
    "\n",
    "2) You can use the reverse() method to reverse the elements of a list in place. This means that it modifies the original list, and you don't need to create a new one.\n",
    "\n",
    "3) You can also use slicing to create a new reversed list without modifying the original list.\n",
    "\n",
    "\n"
   ]
  },
  {
   "cell_type": "code",
   "execution_count": 2,
   "id": "5610ae97",
   "metadata": {},
   "outputs": [
    {
     "name": "stdout",
     "output_type": "stream",
     "text": [
      "[5, 4, 3, 2, 1]\n"
     ]
    }
   ],
   "source": [
    "my_list = [1, 2, 3, 4, 5]\n",
    "my_list.reverse()\n",
    "print(my_list) \n"
   ]
  },
  {
   "cell_type": "code",
   "execution_count": 3,
   "id": "84f8ecb1",
   "metadata": {},
   "outputs": [
    {
     "name": "stdout",
     "output_type": "stream",
     "text": [
      "[5, 4, 3, 2, 1]\n"
     ]
    }
   ],
   "source": [
    "my_list = [1, 2, 3, 4, 5]\n",
    "reversed_list = my_list[::-1]\n",
    "print(reversed_list) \n"
   ]
  },
  {
   "cell_type": "markdown",
   "id": "69255251",
   "metadata": {},
   "source": [
    "# How will you compare two lists?"
   ]
  },
  {
   "cell_type": "markdown",
   "id": "ba0e877c",
   "metadata": {},
   "source": [
    "1) Using the == operator:\n",
    "   The == operator checks if the two lists have the same elements in the same order. If both lists contain the same elements in the same order, they are considered equal.\n",
    "   \n",
    "2) Using a loop:\n",
    "   You can use a loop to iterate through both lists and compare their elements one by one.\n",
    "   \n",
    "3) Using the all() function:\n",
    "   You can use the all() function with a generator expression to check if all corresponding elements of two lists are equal."
   ]
  },
  {
   "cell_type": "markdown",
   "id": "367150d6",
   "metadata": {},
   "source": [
    "###  How will you remove last object from a list? Suppose list1 is [2, 33, 222, 14, and 25], what is list1 [-1]? "
   ]
  },
  {
   "cell_type": "markdown",
   "id": "f745fbf0",
   "metadata": {},
   "source": [
    "1) To remove the last object from a list in Python, you can use the pop() method or simply use slicing to create a new list without the last element. Here's how you can do it:"
   ]
  },
  {
   "cell_type": "code",
   "execution_count": null,
   "id": "1a1302c2",
   "metadata": {},
   "outputs": [],
   "source": [
    "list1 = [2, 33, 222, 14, 25]\n",
    "list1.pop()  # This will remove and return the last element\n",
    "print(list1) \n"
   ]
  },
  {
   "cell_type": "code",
   "execution_count": null,
   "id": "152246f0",
   "metadata": {},
   "outputs": [],
   "source": [
    "list1 = [2, 33, 222, 14, 25]\n",
    "list1 = list1[:-1]  # Create a new list without the last element\n",
    "print(list1)\n"
   ]
  },
  {
   "cell_type": "markdown",
   "id": "9ad2912e",
   "metadata": {},
   "source": [
    "### Differentiate between append () and extend () methods? "
   ]
  },
  {
   "cell_type": "markdown",
   "id": "1227f487",
   "metadata": {},
   "source": [
    "1) append() Method:\n",
    "\n",
    "   The append() method is used to add a single element to the end of a list.\n",
    "   It takes one argument, which is the element you want to add.\n",
    "   After calling append(), the list will have one additional element at its end.\n",
    "   If you pass a list as an argument to append(), it will add the entire list as a single element, making the list a nested list.\n",
    "   \n",
    "2)  The extend() method is used to add multiple elements usually from another iterable like a list, tuple, or string to the end of a list.\n",
    "    It takes one argument, which is an iterable containing the elements you want to add.\n",
    "    After calling extend(), the list will be modified to include all the elements from the iterable individually, not as a single element.\n",
    "    extend() does not return a new list; it modifies the original list in place.\n",
    "   \n",
    "3) append() adds a single element or a single nested list to the end of a list, while extend() adds multiple elements from an iterable to the end of a list, extending the list with those elements individually.\n",
    "\n",
    "    "
   ]
  },
  {
   "cell_type": "markdown",
   "id": "5f8c10ed",
   "metadata": {},
   "source": [
    "### Write a Python program to find the second smallest number in a list."
   ]
  },
  {
   "cell_type": "code",
   "execution_count": 4,
   "id": "79acc6a9",
   "metadata": {},
   "outputs": [
    {
     "name": "stdout",
     "output_type": "stream",
     "text": [
      "Enter a list of numbers separated by spaces: 12 13 14 15 16 17\n",
      "The second smallest number is: 13\n"
     ]
    }
   ],
   "source": [
    "# Input a list of numbers from the user\n",
    "num_list = [int(x) for x in input(\"Enter a list of numbers separated by spaces: \").split()]\n",
    "\n",
    "# Initialize variables for the smallest and second smallest numbers\n",
    "smallest = float('inf')  # Initialize to positive infinity\n",
    "second_smallest = float('inf')  # Initialize to positive infinity\n",
    "\n",
    "# Iterate through the list to find the smallest and second smallest numbers\n",
    "for num in num_list:\n",
    "    if num < smallest:\n",
    "        second_smallest = smallest\n",
    "        smallest = num\n",
    "    elif num < second_smallest and num != smallest:\n",
    "        second_smallest = num\n",
    "\n",
    "# Check if a second smallest number was found\n",
    "if second_smallest == float('inf'):\n",
    "    print(\"No second smallest number found.\")\n",
    "else:\n",
    "    print(\"The second smallest number is:\", second_smallest)\n"
   ]
  },
  {
   "cell_type": "markdown",
   "id": "6ded1b65",
   "metadata": {},
   "source": [
    "### Write a Python program to find the length of a tuple."
   ]
  },
  {
   "cell_type": "code",
   "execution_count": 6,
   "id": "61cfffe0",
   "metadata": {},
   "outputs": [
    {
     "name": "stdout",
     "output_type": "stream",
     "text": [
      "The length of the tuple is: 5\n"
     ]
    }
   ],
   "source": [
    "# Create a tuple\n",
    "my_tuple = (1, 2, 3, 4, 5)\n",
    "\n",
    "# Find the length of the tuple\n",
    "length = len(my_tuple)\n",
    "\n",
    "# Display the length of the tuple\n",
    "print(\"The length of the tuple is:\", length)\n"
   ]
  },
  {
   "cell_type": "markdown",
   "id": "86d7bc5d",
   "metadata": {},
   "source": [
    "## Write a Python program to reverse a tuple."
   ]
  },
  {
   "cell_type": "code",
   "execution_count": 5,
   "id": "161ca274",
   "metadata": {},
   "outputs": [
    {
     "name": "stdout",
     "output_type": "stream",
     "text": [
      "Reversed tuple: (5, 4, 3, 2, 1)\n"
     ]
    }
   ],
   "source": [
    "## Using the reversed() function to create a new reversed tuple:\n",
    "# Create a tuple\n",
    "my_tuple = (1, 2, 3, 4, 5)\n",
    "\n",
    "# Reverse the tuple using the reversed() function\n",
    "reversed_tuple = tuple(reversed(my_tuple))\n",
    "\n",
    "# Display the reversed tuple\n",
    "print(\"Reversed tuple:\", reversed_tuple)\n"
   ]
  },
  {
   "cell_type": "markdown",
   "id": "d0dc32a2",
   "metadata": {},
   "source": [
    "2) Using slicing to create a new reversed tuple"
   ]
  },
  {
   "cell_type": "code",
   "execution_count": 7,
   "id": "0e92f60b",
   "metadata": {},
   "outputs": [
    {
     "name": "stdout",
     "output_type": "stream",
     "text": [
      "Reversed tuple: (5, 4, 3, 2, 1)\n"
     ]
    }
   ],
   "source": [
    "# Create a tuple\n",
    "my_tuple = (1, 2, 3, 4, 5)\n",
    "\n",
    "# Reverse the tuple using slicing\n",
    "reversed_tuple = my_tuple[::-1]\n",
    "\n",
    "# Display the reversed tuple\n",
    "print(\"Reversed tuple:\", reversed_tuple)\n"
   ]
  },
  {
   "cell_type": "markdown",
   "id": "2a982267",
   "metadata": {},
   "source": [
    "### Write a Python program to remove duplicates from a list. "
   ]
  },
  {
   "cell_type": "code",
   "execution_count": 8,
   "id": "94d4beb8",
   "metadata": {},
   "outputs": [
    {
     "name": "stdout",
     "output_type": "stream",
     "text": [
      "Enter a list of elements separated by spaces: 12 13 14 15 16 17\n",
      "List without duplicates: ['14', '16', '12', '15', '17', '13']\n"
     ]
    }
   ],
   "source": [
    "# Input a list from the user\n",
    "input_list = input(\"Enter a list of elements separated by spaces: \").split()\n",
    "\n",
    "# Convert the input list to a set to remove duplicates\n",
    "unique_set = set(input_list)\n",
    "\n",
    "# Convert the set back to a list\n",
    "result_list = list(unique_set)\n",
    "\n",
    "# Display the list without duplicates\n",
    "print(\"List without duplicates:\", result_list)\n"
   ]
  },
  {
   "cell_type": "markdown",
   "id": "2573940b",
   "metadata": {},
   "source": [
    "## Write a Python function that takes a list and returns a new list with unique elements of the first list."
   ]
  },
  {
   "cell_type": "code",
   "execution_count": 9,
   "id": "6c34b94a",
   "metadata": {},
   "outputs": [
    {
     "name": "stdout",
     "output_type": "stream",
     "text": [
      "Original List: [1, 2, 2, 3, 4, 4, 5]\n",
      "List with Unique Elements: [1, 2, 3, 4, 5]\n"
     ]
    }
   ],
   "source": [
    "def unique_elements(input_list):\n",
    "    # Create an empty list to store unique elements\n",
    "    result_list = []\n",
    "\n",
    "    # Iterate through the input list\n",
    "    for item in input_list:\n",
    "        # If the item is not already in the result list, add it\n",
    "        if item not in result_list:\n",
    "            result_list.append(item)\n",
    "\n",
    "    return result_list\n",
    "\n",
    "# Example usage:\n",
    "my_list = [1, 2, 2, 3, 4, 4, 5]\n",
    "unique_list = unique_elements(my_list)\n",
    "print(\"Original List:\", my_list)\n",
    "print(\"List with Unique Elements:\", unique_list)\n"
   ]
  },
  {
   "cell_type": "markdown",
   "id": "569027d9",
   "metadata": {},
   "source": [
    "###  Write a Python program to check a list is empty or not. "
   ]
  },
  {
   "cell_type": "code",
   "execution_count": 10,
   "id": "fd71c169",
   "metadata": {},
   "outputs": [
    {
     "name": "stdout",
     "output_type": "stream",
     "text": [
      "Enter a list of elements separated by spaces: 1 2 3 4 5 6 \n",
      "The list is not empty.\n"
     ]
    }
   ],
   "source": [
    "# Input a list from the user\n",
    "my_list = input(\"Enter a list of elements separated by spaces: \").split()\n",
    "\n",
    "# Check if the list is empty\n",
    "if not my_list:\n",
    "    print(\"The list is empty.\")\n",
    "else:\n",
    "    print(\"The list is not empty.\")\n"
   ]
  },
  {
   "cell_type": "markdown",
   "id": "c64d9e48",
   "metadata": {},
   "source": [
    "### Write a Python function to get the largest number, smallest num and sum of all from a list. "
   ]
  },
  {
   "cell_type": "code",
   "execution_count": 11,
   "id": "155dd0e4",
   "metadata": {},
   "outputs": [
    {
     "name": "stdout",
     "output_type": "stream",
     "text": [
      "Largest number: 67\n",
      "Smallest number: 9\n",
      "Sum of all numbers: 212\n"
     ]
    }
   ],
   "source": [
    "def analyze_list(input_list):\n",
    "    if not input_list:\n",
    "        return None, None, 0  # Return None for largest and smallest if the list is empty\n",
    "    \n",
    "    largest = max(input_list)\n",
    "    smallest = min(input_list)\n",
    "    total = sum(input_list)\n",
    "    \n",
    "    return largest, smallest, total\n",
    "\n",
    "# Example usage:\n",
    "my_list = [12, 45, 67, 23, 9, 56]\n",
    "largest_num, smallest_num, sum_of_all = analyze_list(my_list)\n",
    "\n",
    "if largest_num is not None:\n",
    "    print(\"Largest number:\", largest_num)\n",
    "    print(\"Smallest number:\", smallest_num)\n",
    "    print(\"Sum of all numbers:\", sum_of_all)\n",
    "else:\n",
    "    print(\"The list is empty.\")\n"
   ]
  },
  {
   "cell_type": "markdown",
   "id": "80f8354d",
   "metadata": {},
   "source": [
    "### Write a Python program to get unique values from a list "
   ]
  },
  {
   "cell_type": "code",
   "execution_count": 12,
   "id": "c7ab6392",
   "metadata": {},
   "outputs": [
    {
     "name": "stdout",
     "output_type": "stream",
     "text": [
      "Enter a list of elements separated by spaces: 17 70 80 55 \n",
      "List with Unique Values: ['70', '17', '80', '55']\n"
     ]
    }
   ],
   "source": [
    "# Input a list from the user\n",
    "my_list = input(\"Enter a list of elements separated by spaces: \").split()\n",
    "\n",
    "# Create a set to store unique values\n",
    "unique_set = set()\n",
    "\n",
    "# Iterate through the list and add elements to the set\n",
    "for item in my_list:\n",
    "    unique_set.add(item)\n",
    "\n",
    "# Convert the set back to a list\n",
    "unique_list = list(unique_set)\n",
    "\n",
    "# Display the list with unique values\n",
    "print(\"List with Unique Values:\", unique_list)\n"
   ]
  },
  {
   "cell_type": "markdown",
   "id": "a62c3d8c",
   "metadata": {},
   "source": [
    "### Write a Python program to split a list into different variables."
   ]
  },
  {
   "cell_type": "code",
   "execution_count": null,
   "id": "25bb05a2",
   "metadata": {},
   "outputs": [],
   "source": [
    "# Input a list from the user\n",
    "my_list = input(\"Enter a list of elements separated by spaces: \").split()\n",
    "\n",
    "# Check if the list has at least three elements (adjust as needed)\n",
    "if len(my_list) >= 3:\n",
    "    # Split the list into different variables\n",
    "    var1, var2, var3, *remaining = my_list\n",
    "    \n",
    "    # Display the variables\n",
    "    print(\"Variable 1:\", var1)\n",
    "    print(\"Variable 2:\", var2)\n",
    "    print(\"Variable 3:\", var3)\n",
    "    \n",
    "    if remaining:\n",
    "        print(\"Remaining elements:\", remaining)\n",
    "else:\n",
    "    print(\"The list should have at least three elements to split.\")\n"
   ]
  },
  {
   "cell_type": "markdown",
   "id": "f85589f9",
   "metadata": {},
   "source": [
    "### Write a Python program to check whether an element exists within a tuple"
   ]
  },
  {
   "cell_type": "code",
   "execution_count": null,
   "id": "84d3d847",
   "metadata": {},
   "outputs": [],
   "source": [
    "# Create a tuple\n",
    "my_tuple = (1, 2, 3, 4, 5)\n",
    "\n",
    "# Element to check for existence\n",
    "element_to_check = int(input(\"Enter an element to check for existence: \"))\n",
    "\n",
    "# Check existence using the 'in' operator\n",
    "if element_to_check in my_tuple:\n",
    "    print(f\"{element_to_check} exists in the tuple.\")\n",
    "else:\n",
    "    print(f\"{element_to_check} does not exist in the tuple.\")\n",
    "\n",
    "# Check existence using the 'count()' method\n",
    "if my_tuple.count(element_to_check) > 0:\n",
    "    print(f\"{element_to_check} exists in the tuple.\")\n",
    "else:\n",
    "    print(f\"{element_to_check} does not exist in the tuple.\")\n"
   ]
  },
  {
   "cell_type": "markdown",
   "id": "f9fdf431",
   "metadata": {},
   "source": [
    "### Write a Python program to convert a list to a tuple. "
   ]
  },
  {
   "cell_type": "code",
   "execution_count": null,
   "id": "55b39659",
   "metadata": {},
   "outputs": [],
   "source": [
    "# Create a list\n",
    "my_list = [1, 2, 3, 4, 5]\n",
    "\n",
    "# Convert the list to a tuple\n",
    "my_tuple = tuple(my_list)\n",
    "\n",
    "# Display the tuple\n",
    "print(\"Tuple:\", my_tuple)\n"
   ]
  },
  {
   "cell_type": "markdown",
   "id": "9b882e05",
   "metadata": {},
   "source": [
    "### Write a Python program to find the repeated items of a tuple."
   ]
  },
  {
   "cell_type": "code",
   "execution_count": null,
   "id": "9b81129e",
   "metadata": {},
   "outputs": [],
   "source": [
    "# Create a tuple\n",
    "my_tuple = (1, 2, 2, 3, 4, 4, 5, 6, 6, 6)\n",
    "\n",
    "# Create an empty list to store repeated items\n",
    "repeated_items = []\n",
    "\n",
    "# Iterate through the tuple\n",
    "for item in my_tuple:\n",
    "    # If the item occurs more than once and is not already in the repeated_items list\n",
    "    if my_tuple.count(item) > 1 and item not in repeated_items:\n",
    "        repeated_items.append(item)\n",
    "\n",
    "# Display the repeated items\n",
    "if repeated_items:\n",
    "    print(\"Repeated items in the tuple:\", repeated_items)\n",
    "else:\n",
    "    print(\"There are no repeated items in the tuple.\")\n"
   ]
  },
  {
   "cell_type": "markdown",
   "id": "a4b253d1",
   "metadata": {},
   "source": [
    "###  Write a Python program to remove an empty tuple(s) from a list of tuples"
   ]
  },
  {
   "cell_type": "code",
   "execution_count": null,
   "id": "5b573974",
   "metadata": {},
   "outputs": [],
   "source": [
    "# Create a list of tuples\n",
    "list_of_tuples = [(1, 2), (), (3, 4), (), (5, 6), ()]\n",
    "\n",
    "# Remove empty tuples from the list\n",
    "filtered_list = [tup for tup in list_of_tuples if tup]\n",
    "\n",
    "# Display the list after removing empty tuples\n",
    "print(\"List after removing empty tuples:\", filtered_list)\n"
   ]
  },
  {
   "cell_type": "markdown",
   "id": "e4b2114c",
   "metadata": {},
   "source": [
    "### Write a Python program to unzip a list of tuples into individual lists. "
   ]
  },
  {
   "cell_type": "code",
   "execution_count": null,
   "id": "1b624da0",
   "metadata": {},
   "outputs": [],
   "source": [
    "# Create a list of tuples\n",
    "list_of_tuples = [(1, 'one'), (2, 'two'), (3, 'three')]\n",
    "\n",
    "# Unzip the list of tuples into individual lists\n",
    "numbers, words = zip(*list_of_tuples)\n",
    "\n",
    "# Display the individual lists\n",
    "print(\"Numbers:\", numbers)\n",
    "print(\"Words:\", words)\n"
   ]
  },
  {
   "cell_type": "markdown",
   "id": "f6c16416",
   "metadata": {},
   "source": [
    "### Write a Python function to check whether a number is in a given range"
   ]
  },
  {
   "cell_type": "code",
   "execution_count": null,
   "id": "5c2e1e91",
   "metadata": {},
   "outputs": [],
   "source": [
    "def is_in_range(number, start, end):\n",
    "    \"\"\"\n",
    "    Check if a number is in the given range [start, end].\n",
    "    \n",
    "    Args:\n",
    "    number (int): The number to check.\n",
    "    start (int): The start of the range (inclusive).\n",
    "    end (int): The end of the range (inclusive).\n",
    "    \n",
    "    Returns:\n",
    "    bool: True if the number is in the range, False otherwise.\n",
    "    \"\"\"\n",
    "    if start <= number <= end:\n",
    "        return True\n",
    "    else:\n",
    "        return False\n",
    "\n",
    "# Example usage:\n",
    "num = int(input(\"Enter a number: \"))\n",
    "start_range = 10\n",
    "end_range = 20\n",
    "\n",
    "if is_in_range(num, start_range, end_range):\n",
    "    print(f\"{num} is in the range [{start_range}, {end_range}]\")\n",
    "else:\n",
    "    print(f\"{num} is not in the range [{start_range}, {end_range}]\")\n"
   ]
  },
  {
   "cell_type": "markdown",
   "id": "ca38d306",
   "metadata": {},
   "source": [
    "### Write a Python function that checks whether a passed string is palindrome or not "
   ]
  },
  {
   "cell_type": "code",
   "execution_count": null,
   "id": "e20061fb",
   "metadata": {},
   "outputs": [],
   "source": [
    "def is_palindrome(string):\n",
    "    \"\"\"\n",
    "    Check if a string is a palindrome.\n",
    "    \n",
    "    Args:\n",
    "    string (str): The string to check.\n",
    "    \n",
    "    Returns:\n",
    "    bool: True if the string is a palindrome, False otherwise.\n",
    "    \"\"\"\n",
    "    # Remove spaces and convert the string to lowercase for case-insensitive comparison\n",
    "    cleaned_string = string.replace(\" \", \"\").lower()\n",
    "    \n",
    "    # Compare the string with its reverse\n",
    "    return cleaned_string == cleaned_string[::-1]\n",
    "\n",
    "# Example usage:\n",
    "input_string = input(\"Enter a string: \")\n",
    "\n",
    "if is_palindrome(input_string):\n",
    "    print(f\"'{input_string}' is a palindrome.\")\n",
    "else:\n",
    "    print(f\"'{input_string}' is not a palindrome.\")\n"
   ]
  },
  {
   "cell_type": "markdown",
   "id": "19e7c4e5",
   "metadata": {},
   "source": [
    "### Write a Python program to returns sum of all divisors of a number "
   ]
  },
  {
   "cell_type": "code",
   "execution_count": null,
   "id": "5fd0d815",
   "metadata": {},
   "outputs": [],
   "source": [
    "def sum_of_divisors(number):\n",
    "    \"\"\"\n",
    "    Calculate the sum of all divisors of a number.\n",
    "    \n",
    "    Args:\n",
    "    number (int): The number for which to calculate the sum of divisors.\n",
    "    \n",
    "    Returns:\n",
    "    int: The sum of all divisors of the number.\n",
    "    \"\"\"\n",
    "    divisor_sum = 0\n",
    "    \n",
    "    for i in range(1, number + 1):\n",
    "        if number % i == 0:\n",
    "            divisor_sum += i\n",
    "            \n",
    "    return divisor_sum\n",
    "\n",
    "# Example usage:\n",
    "num = int(input(\"Enter a number: \"))\n",
    "\n",
    "if num < 1:\n",
    "    print(\"Please enter a positive integer.\")\n",
    "else:\n",
    "    result = sum_of_divisors(num)\n",
    "    print(f\"The sum of divisors of {num} is {result}.\")\n"
   ]
  },
  {
   "cell_type": "markdown",
   "id": "e64676e6",
   "metadata": {},
   "source": [
    "### Write a Python program to find the maximum and minimum numbers from the specified decimal numbers. "
   ]
  },
  {
   "cell_type": "code",
   "execution_count": null,
   "id": "119282e9",
   "metadata": {},
   "outputs": [],
   "source": [
    "# Input decimal numbers from the user\n",
    "decimal_numbers = input(\"Enter a list of decimal numbers separated by spaces: \").split()\n",
    "\n",
    "# Convert the input strings to float numbers\n",
    "decimal_numbers = [float(num) for num in decimal_numbers]\n",
    "\n",
    "# Check if the list is empty\n",
    "if not decimal_numbers:\n",
    "    print(\"The list is empty.\")\n",
    "else:\n",
    "    # Find the maximum and minimum numbers using max() and min() functions\n",
    "    maximum = max(decimal_numbers)\n",
    "    minimum = min(decimal_numbers)\n",
    "\n",
    "    # Display the maximum and minimum numbers\n",
    "    print(\"Maximum number:\", maximum)\n",
    "    print(\"Minimum number:\", minimum)\n"
   ]
  },
  {
   "cell_type": "markdown",
   "id": "afc120de",
   "metadata": {},
   "source": [
    "### Write a Python program to calculate the area of a parallelogram "
   ]
  },
  {
   "cell_type": "code",
   "execution_count": null,
   "id": "0d4e61b6",
   "metadata": {},
   "outputs": [],
   "source": [
    "# Input the length of the base and height from the user\n",
    "base = float(input(\"Enter the length of the base of the parallelogram: \"))\n",
    "height = float(input(\"Enter the height of the parallelogram: \"))\n",
    "\n",
    "# Calculate the area of the parallelogram\n",
    "area = base * height\n",
    "\n",
    "# Display the area\n",
    "print(f\"The area of the parallelogram is {area:.2f} square units\")\n"
   ]
  },
  {
   "cell_type": "markdown",
   "id": "23ab496f",
   "metadata": {},
   "source": [
    "### Write a Python function to check whether a number is perfect or not. "
   ]
  },
  {
   "cell_type": "code",
   "execution_count": null,
   "id": "2d7e8da7",
   "metadata": {},
   "outputs": [],
   "source": [
    "def is_perfect_number(number):\n",
    "    \"\"\"\n",
    "    Check if a number is a perfect number.\n",
    "    \n",
    "    Args:\n",
    "    number (int): The number to check.\n",
    "    \n",
    "    Returns:\n",
    "    bool: True if the number is perfect, False otherwise.\n",
    "    \"\"\"\n",
    "    if number <= 0:\n",
    "        return False  # Perfect numbers are positive integers\n",
    "    \n",
    "    # Find the proper divisors and calculate their sum\n",
    "    divisors_sum = sum([i for i in range(1, number) if number % i == 0])\n",
    "    \n",
    "    # Check if the sum of divisors equals the original number\n",
    "    return divisors_sum == number\n",
    "\n",
    "# Example usage:\n",
    "num = int(input(\"Enter a number: \"))\n",
    "\n",
    "if is_perfect_number(num):\n",
    "    print(f\"{num} is a perfect number.\")\n",
    "else:\n",
    "    print(f\"{num} is not a perfect number.\")\n"
   ]
  },
  {
   "cell_type": "markdown",
   "id": "5e41e219",
   "metadata": {},
   "source": [
    "### Write a Python program to convert degree to radian"
   ]
  },
  {
   "cell_type": "code",
   "execution_count": null,
   "id": "87fb8406",
   "metadata": {},
   "outputs": [],
   "source": [
    "import math\n",
    "\n",
    "# Input the angle in degrees from the user\n",
    "degrees = float(input(\"Enter an angle in degrees: \"))\n",
    "\n",
    "# Convert degrees to radians\n",
    "radians = degrees * (math.pi / 180)\n",
    "\n",
    "# Display the result\n",
    "print(f\"{degrees} degrees is equal to {radians:.2f} radians\")\n"
   ]
  },
  {
   "cell_type": "markdown",
   "id": "368bba70",
   "metadata": {},
   "source": [
    "###  Write a Python program to calculate the area of a trapezoid "
   ]
  },
  {
   "cell_type": "code",
   "execution_count": null,
   "id": "34ef44e0",
   "metadata": {},
   "outputs": [],
   "source": [
    "# Input the lengths of the bases and the height from the user\n",
    "base1 = float(input(\"Enter the length of the first base of the trapezoid: \"))\n",
    "base2 = float(input(\"Enter the length of the second base of the trapezoid: \"))\n",
    "height = float(input(\"Enter the height of the trapezoid: \"))\n",
    "\n",
    "# Calculate the area of the trapezoid\n",
    "area = 0.5 * (base1 + base2) * height\n",
    "\n",
    "# Display the area\n",
    "print(f\"The area of the trapezoid is {area:.2f} square units\")\n"
   ]
  },
  {
   "cell_type": "markdown",
   "id": "8bf811b7",
   "metadata": {},
   "source": [
    "## Write a Python program to calculate surface volume and area of a cylinder "
   ]
  },
  {
   "cell_type": "code",
   "execution_count": null,
   "id": "f5fc9dfb",
   "metadata": {},
   "outputs": [],
   "source": [
    "import math\n",
    "\n",
    "def calculate_cylinder_properties(radius, height):\n",
    "    \"\"\"\n",
    "    Calculate the surface area, volume, and lateral surface area of a cylinder.\n",
    "    \n",
    "    Args:\n",
    "    radius (float): The radius of the cylinder.\n",
    "    height (float): The height of the cylinder.\n",
    "    \n",
    "    Returns:\n",
    "    float, float, float: The surface area, volume, and lateral surface area of the cylinder.\n",
    "    \"\"\"\n",
    "    # Calculate the surface area of the cylinder\n",
    "    surface_area = 2 * math.pi * radius * (radius + height)\n",
    "\n",
    "    # Calculate the volume of the cylinder\n",
    "    volume = math.pi * radius ** 2 * height\n",
    "\n",
    "    # Calculate the lateral surface area of the cylinder\n",
    "    lateral_surface_area = 2 * math.pi * radius * height\n",
    "\n",
    "    return surface_area, volume, lateral_surface_area\n",
    "\n",
    "# Input the radius and height from the user\n",
    "radius = float(input(\"Enter the radius of the cylinder: \"))\n",
    "height = float(input(\"Enter the height of the cylinder: \"))\n",
    "\n",
    "# Calculate cylinder properties\n",
    "surface_area, volume, lateral_surface_area = calculate_cylinder_properties(radius, height)\n",
    "\n",
    "# Display the results\n",
    "print(f\"Surface Area: {surface_area:.2f} square units\")\n",
    "print(f\"Volume: {volume:.2f} cubic units\")\n",
    "print(f\"Lateral Surface Area: {lateral_surface_area:.2f} square units\")\n"
   ]
  },
  {
   "cell_type": "code",
   "execution_count": null,
   "id": "28cae912",
   "metadata": {},
   "outputs": [],
   "source": []
  }
 ],
 "metadata": {
  "kernelspec": {
   "display_name": "Python 3 (ipykernel)",
   "language": "python",
   "name": "python3"
  },
  "language_info": {
   "codemirror_mode": {
    "name": "ipython",
    "version": 3
   },
   "file_extension": ".py",
   "mimetype": "text/x-python",
   "name": "python",
   "nbconvert_exporter": "python",
   "pygments_lexer": "ipython3",
   "version": "3.11.4"
  },
  "vscode": {
   "interpreter": {
    "hash": "5ae58900cfbb8c43ab3495913814b7cf26024f51651a94ce8bf64d6111688e8d"
   }
  }
 },
 "nbformat": 4,
 "nbformat_minor": 5
}

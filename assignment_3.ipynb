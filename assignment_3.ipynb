{
 "cells": [
  {
   "cell_type": "markdown",
   "id": "4e96153a",
   "metadata": {},
   "source": [
    "# Python Assignment - 3\n",
    "### Carries - 30 marks"
   ]
  },
  {
   "cell_type": "markdown",
   "id": "b5bc6391",
   "metadata": {},
   "source": [
    "## What is File function in python? What is keywords to create and write file. "
   ]
  },
  {
   "cell_type": "markdown",
   "id": "5c024d33",
   "metadata": {},
   "source": [
    "files are named locations on disk to store relatade information . they are used to permanently store data in a non-volatile memore (e.g- 'hard disk')"
   ]
  },
  {
   "cell_type": "markdown",
   "id": "77e6fcc1",
   "metadata": {},
   "source": [
    "#### Create and write a  file"
   ]
  },
  {
   "cell_type": "markdown",
   "id": "fd2cb649",
   "metadata": {},
   "source": [
    "1) OPEN A FILE : You can use a 'open()' function to creat a new file .it takes two arguments - the file name and the mode wich you want to open the file.( like 'a' for appending , 'r' for reading , 'w' for writing and more) for writing a new file use a 'w' mode   \n"
   ]
  },
  {
   "cell_type": "code",
   "execution_count": 9,
   "id": "25aedcaf",
   "metadata": {},
   "outputs": [
    {
     "name": "stdout",
     "output_type": "stream",
     "text": [
      "<_io.TextIOWrapper name='test_file.txt' mode='w' encoding='cp1252'>\n"
     ]
    }
   ],
   "source": [
    "test_file = open(\"test_file.txt\", 'w')\n",
    "print(test_file)"
   ]
  },
  {
   "cell_type": "markdown",
   "id": "87208ea5",
   "metadata": {},
   "source": [
    "2) Write to the file : using 'write()' method you can write a data to the file ,\n",
    "   you want to write it on a string argument to the 'write()' method"
   ]
  },
  {
   "cell_type": "code",
   "execution_count": 7,
   "id": "b1874cf4",
   "metadata": {},
   "outputs": [
    {
     "data": {
      "text/plain": [
       "25"
      ]
     },
     "execution_count": 7,
     "metadata": {},
     "output_type": "execute_result"
    }
   ],
   "source": [
    "test_file = open(\"test_file.txt\", 'w')\n",
    "test_file.write(\"HELLO EVERYONE\\n\")\n",
    "test_file.write(\"it is my frist test file\\n\")\n"
   ]
  },
  {
   "cell_type": "markdown",
   "id": "8e852c18",
   "metadata": {},
   "source": [
    "3) close the file : After you done writing to the file ,it's essential to close it using the '.close()' method.\n",
    "   This step is important because it ensures that any pending data is written to the file"
   ]
  },
  {
   "cell_type": "code",
   "execution_count": null,
   "id": "b9381137",
   "metadata": {},
   "outputs": [],
   "source": [
    "test_file = open(\"test_file.txt\", 'w')\n",
    "test_file.close()"
   ]
  },
  {
   "cell_type": "markdown",
   "id": "de667fd8",
   "metadata": {},
   "source": [
    "4) With open : Alternatively, you can use a with statement to automatically close the file when you're done with it."
   ]
  },
  {
   "cell_type": "code",
   "execution_count": 8,
   "id": "e85a0c59",
   "metadata": {},
   "outputs": [],
   "source": [
    "with open(\"test_file.txt\", 'a') as file:\n",
    "    file.write(\"it is my new line\")\n",
    "    file.close()"
   ]
  },
  {
   "cell_type": "markdown",
   "id": "60a2b73f",
   "metadata": {},
   "source": [
    "5) Read the file : To read a file in Python, you can use the open() function with the mode set to \"r\" for reading. You can then use various methods to read the content of the file. \n",
    "  1) Using open() and read() ,2) Using readline() ,3) Using redlines ,4)Using a for loop"
   ]
  },
  {
   "cell_type": "code",
   "execution_count": 1,
   "id": "b59b49d0",
   "metadata": {},
   "outputs": [
    {
     "name": "stdout",
     "output_type": "stream",
     "text": [
      "HELLO EVERYONE\n",
      "it is my frist test file\n",
      "\n"
     ]
    }
   ],
   "source": [
    "#using open() and read()\n",
    "#open a file for reading\n",
    "with open(\"test_file.txt\", 'r') as file:\n",
    "    #read the entire file contant\n",
    "    file_contant = file.read()\n",
    "    \n",
    "    #print the contant\n",
    "    print(file_contant)\n"
   ]
  },
  {
   "cell_type": "code",
   "execution_count": 2,
   "id": "a5296af0",
   "metadata": {},
   "outputs": [
    {
     "name": "stdout",
     "output_type": "stream",
     "text": [
      "HELLO EVERYONE\n",
      "it is my frist test file\n"
     ]
    }
   ],
   "source": [
    "#using a readline\n",
    "#Open the file for reading\n",
    "with open(\"test_file.txt\", \"r\") as file:\n",
    "    # Read one line at a time\n",
    "    line = file.readline()\n",
    "    while line:\n",
    "        print(line, end=\"\")  # Print the line without an extra newline\n",
    "        line = file.readline()\n"
   ]
  },
  {
   "cell_type": "code",
   "execution_count": 3,
   "id": "6a7350ba",
   "metadata": {},
   "outputs": [
    {
     "name": "stdout",
     "output_type": "stream",
     "text": [
      "HELLO EVERYONE\n",
      "it is my frist test file\n"
     ]
    }
   ],
   "source": [
    "#using a for loop\n",
    "# Open the file for reading\n",
    "with open(\"test_file.txt\", \"r\") as file:\n",
    "    # Iterate through the file line by line using a for loop\n",
    "    for line in file:\n",
    "        print(line, end=\"\")\n"
   ]
  },
  {
   "cell_type": "code",
   "execution_count": 4,
   "id": "8efbd5c4",
   "metadata": {},
   "outputs": [
    {
     "name": "stdout",
     "output_type": "stream",
     "text": [
      "HELLO EVERYONE\n",
      "it is my frist test file\n"
     ]
    }
   ],
   "source": [
    "#using a readlines\n",
    "# Open the file for reading\n",
    "with open(\"test_file.txt\", \"r\") as file:\n",
    "    # Read all lines into a list\n",
    "    lines = file.readlines()\n",
    "\n",
    "# Print the list of lines\n",
    "for line in lines:\n",
    "    print(line, end=\"\")\n"
   ]
  },
  {
   "cell_type": "markdown",
   "id": "ee678cfd",
   "metadata": {},
   "source": [
    "## Write a Python program to read an entire text file. "
   ]
  },
  {
   "cell_type": "code",
   "execution_count": 1,
   "id": "cdf7ae1a",
   "metadata": {},
   "outputs": [
    {
     "name": "stdout",
     "output_type": "stream",
     "text": [
      "HELLO EVERYONE\n",
      "it is my frist test file\n",
      "\n"
     ]
    }
   ],
   "source": [
    "#open a file for reading\n",
    "with open(\"test_file.txt\", 'r') as file:\n",
    "    #read the entire file contant\n",
    "    file_contant = file.read()\n",
    "    \n",
    "    #print the contant\n",
    "    print(file_contant)"
   ]
  },
  {
   "cell_type": "markdown",
   "id": "dd46afa5",
   "metadata": {},
   "source": [
    "## Write a Python program to append text to a file and display the text."
   ]
  },
  {
   "cell_type": "code",
   "execution_count": 2,
   "id": "c80ebe1f",
   "metadata": {},
   "outputs": [
    {
     "name": "stdout",
     "output_type": "stream",
     "text": [
      "HELLO EVERYONE\n",
      "it is my frist test file\n",
      "it is my new lineit is my new line\n"
     ]
    }
   ],
   "source": [
    "with open(\"test_file.txt\", 'a') as file:\n",
    "    file.write(\"it is my new line\")\n",
    "with open(\"test_file.txt\", 'r') as file:\n",
    "    file_contant = file.read()\n",
    "    print(file_contant)\n",
    "    file.close()"
   ]
  },
  {
   "cell_type": "markdown",
   "id": "52316493",
   "metadata": {},
   "source": [
    "## Write a Python program to read first n lines of a file. "
   ]
  },
  {
   "cell_type": "code",
   "execution_count": 22,
   "id": "67b689b7",
   "metadata": {},
   "outputs": [
    {
     "name": "stdout",
     "output_type": "stream",
     "text": [
      "Enter a n number of lines: 2\n",
      "HELLO EVERYONE\n",
      "\n",
      "it is my frist test file\n",
      "\n"
     ]
    }
   ],
   "source": [
    "#write a python pogram to read frist n lines of a file \n",
    "#using a readline\n",
    "F1=open(\"test_file.txt\", 'r')\n",
    "n=int(input(\"Enter a n number of lines: \"))\n",
    "if n<=0:\n",
    "    print(\"Kindly enter a positive integer\")\n",
    "else:\n",
    "        for i in range(n):\n",
    "            line = F1.readline()\n",
    "            print(line)\n",
    "        "
   ]
  },
  {
   "cell_type": "markdown",
   "id": "45dba4dc",
   "metadata": {},
   "source": [
    "## Write a Python program to read last n lines of a file. "
   ]
  },
  {
   "cell_type": "code",
   "execution_count": 12,
   "id": "d36a72b0",
   "metadata": {},
   "outputs": [
    {
     "name": "stdout",
     "output_type": "stream",
     "text": [
      "Enter a n number of lines: 2\n",
      "it is my frist test file\n",
      "it is my new lineit is my new line"
     ]
    }
   ],
   "source": [
    "#wite a python program to read last n lines of a file\n",
    "n=int(input(\"Enter a n number of lines: \"))\n",
    "f=open(\"test_file.txt\", 'r')\n",
    "for line in (f.readlines() [-n:]):\n",
    "    print(line,end=\"\") #print the line without an extra newline\n",
    "    f.close()"
   ]
  },
  {
   "cell_type": "markdown",
   "id": "76a74d09",
   "metadata": {},
   "source": [
    "## Write a Python program to read a file line by line and store it into a list"
   ]
  },
  {
   "cell_type": "code",
   "execution_count": 25,
   "id": "3ea8e4e4",
   "metadata": {},
   "outputs": [
    {
     "name": "stdout",
     "output_type": "stream",
     "text": [
      "['HELLO EVERYONE\\n', 'it is my frist test file\\n', 'it is my new lineit is my new line']\n",
      "['HELLO EVERYONE', 'it is my frist test file', 'it is my new lineit is my new line']\n"
     ]
    }
   ],
   "source": [
    "#Write a Python program to read a file line by line and store it into a list\n",
    "with open(\"test_file.txt\") as f:\n",
    "    contant_list=f.readlines()\n",
    "    \n",
    "    #print the list\n",
    "    print(contant_list)\n",
    "    \n",
    "    #remove new line charactors\n",
    "    contant_list=[x.strip() for x in contant_list]\n",
    "    print(contant_list)"
   ]
  },
  {
   "cell_type": "markdown",
   "id": "589e624c",
   "metadata": {},
   "source": [
    "## Write a Python program to read a file line by line store it into a variable."
   ]
  },
  {
   "cell_type": "code",
   "execution_count": 29,
   "id": "5213e2a3",
   "metadata": {},
   "outputs": [
    {
     "name": "stdout",
     "output_type": "stream",
     "text": [
      "HELLO EVERYONE\n",
      "it is my frist test file\n",
      "it is my new lineit is my new line\n"
     ]
    }
   ],
   "source": [
    "#Write a Python program to read a file line by line store it into a variable.\n",
    "file_path = 'test_file.txt'  \n",
    "file_path = 'test_file.txt'  \n",
    "\n",
    "# Initialize an empty string to store the file content\n",
    "file_content = \"\"\n",
    "\n",
    "# Open the file for reading\n",
    "with open(file_path, 'r') as file:\n",
    "    # Read the file line by line\n",
    "    for line in file:\n",
    "        file_content += line\n",
    "\n",
    "# Now, the entire file content is stored in the 'file_content' variable\n",
    "print(file_content)\n"
   ]
  },
  {
   "cell_type": "markdown",
   "id": "c5a5e0a9",
   "metadata": {},
   "source": [
    "## Write a Python program to copy the contents of a file to another file. "
   ]
  },
  {
   "cell_type": "code",
   "execution_count": 30,
   "id": "d47a46fb",
   "metadata": {},
   "outputs": [
    {
     "name": "stdout",
     "output_type": "stream",
     "text": [
      "Contents of 'test_file.txt' copied to 'test_file2.txt' successfully.\n"
     ]
    }
   ],
   "source": [
    "# Define the source and destination file paths\n",
    "source_file_path = 'test_file.txt' \n",
    "destination_file_path = 'test_file2.txt'\n",
    "\n",
    "# Open the source file for reading\n",
    "with open(source_file_path, 'r') as source_file:\n",
    "    # Read the content of the source file\n",
    "    file_content = source_file.read()\n",
    "\n",
    "# Open the destination file for writing\n",
    "with open(destination_file_path, 'w') as destination_file:\n",
    "    # Write the content to the destination file\n",
    "    destination_file.write(file_content)\n",
    "\n",
    "print(f\"Contents of '{source_file_path}' copied to '{destination_file_path}' successfully.\")\n"
   ]
  },
  {
   "cell_type": "markdown",
   "id": "056551f3",
   "metadata": {},
   "source": [
    "## Write python program that user to enter only odd numbers, else will raise an exception"
   ]
  },
  {
   "cell_type": "code",
   "execution_count": 1,
   "id": "e2ef3212",
   "metadata": {},
   "outputs": [
    {
     "name": "stdout",
     "output_type": "stream",
     "text": [
      "Enter an odd number: 90\n",
      "Even number entered. Please enter an odd number.\n",
      "Enter an odd number: 11\n",
      "You entered an odd number: 11\n"
     ]
    }
   ],
   "source": [
    "while True:\n",
    "    try:\n",
    "        user_input = int(input(\"Enter an odd number: \"))\n",
    "        if user_input % 2 == 0:\n",
    "            raise ValueError(\"Even number entered. Please enter an odd number.\")\n",
    "        else:\n",
    "            print(f\"You entered an odd number: {user_input}\")\n",
    "            break\n",
    "    except ValueError as e:\n",
    "        print(e)\n"
   ]
  },
  {
   "cell_type": "markdown",
   "id": "165279e1",
   "metadata": {},
   "source": [
    "## Can one block of except statements handle multiple exception? "
   ]
  },
  {
   "cell_type": "code",
   "execution_count": 10,
   "id": "9cc304cc",
   "metadata": {},
   "outputs": [
    {
     "name": "stdout",
     "output_type": "stream",
     "text": [
      "Enter a value of a: 10\n",
      "Enter a value of b: 2\n",
      "An exception occurred: list index out of range\n"
     ]
    }
   ],
   "source": [
    "try:\n",
    "    \n",
    "    a=int(input(\"Enter a value of a: \"))\n",
    "    b=int(input(\"Enter a value of b: \"))\n",
    "    l=[10,20,30,40,50]\n",
    "    \n",
    "    c=a/b\n",
    "    print(l[5])\n",
    "    d=int(\"abc\")\n",
    "except(ZeroDivisionError, ValueError,TypeError,IndexError) as e:\n",
    "        print(f\"An exception occurred: {e}\")\n",
    "except:\n",
    "        print(\"Exception\")"
   ]
  },
  {
   "cell_type": "markdown",
   "id": "759b2c5f",
   "metadata": {},
   "source": [
    "## Explain Exception handling? What is an Error in Python?\n"
   ]
  },
  {
   "cell_type": "markdown",
   "id": "9fe01fe7",
   "metadata": {},
   "source": [
    "  * Exception handling - Exception handling is a programming technique that enables you to deal with errors and exceptional situations in a controlled manner. It allows you to detect and respond to issues that may arise during program execution without causing the program to crash. Exception handling involves the use of try, except, finally, and optionally else blocks.\n",
    "  * Errors in Python:\n",
    "\n",
    "    In Python, errors are divided into two main categories: syntax errors and exceptions.\n",
    "\n",
    "  1) Syntax Errors: These errors occur when you violate the rules of the Python language. They are typically detected by the Python interpreter during the parsing of your code. Syntax errors prevent your code from running at all and must be fixed before you can execute the program\n",
    "  2) Exceptions: Exceptions are runtime errors that occur during the execution of a program. They are not necessarily fatal, and you can handle them using exception handling techniques. Common built-in exceptions in Python include ZeroDivisionError, ValueError, TypeError, and FileNotFoundError,and others."
   ]
  },
  {
   "cell_type": "markdown",
   "id": "503ae851",
   "metadata": {},
   "source": [
    "## Write a Python program to count the number of lines in a text file. "
   ]
  },
  {
   "cell_type": "code",
   "execution_count": 11,
   "id": "9b708d8d",
   "metadata": {},
   "outputs": [
    {
     "name": "stdout",
     "output_type": "stream",
     "text": [
      "Number of lines in the file: 3\n"
     ]
    }
   ],
   "source": [
    "# Open the file in read mode\n",
    "file_path = 'test_file.txt'  \n",
    "try:\n",
    "    with open(file_path, 'r') as file:\n",
    "        line_count = 0\n",
    "        for line in file:\n",
    "            line_count += 1\n",
    "\n",
    "    print(f\"Number of lines in the file: {line_count}\")\n",
    "except FileNotFoundError:\n",
    "    print(f\"File '{file_path}' not found.\")\n",
    "except Exception as e:\n",
    "    print(f\"An error occurred: {e}\")\n"
   ]
  },
  {
   "cell_type": "markdown",
   "id": "7dd706b2",
   "metadata": {},
   "source": [
    "## Write a Python program to write a list to a file. "
   ]
  },
  {
   "cell_type": "code",
   "execution_count": 12,
   "id": "ab86375f",
   "metadata": {},
   "outputs": [
    {
     "name": "stdout",
     "output_type": "stream",
     "text": [
      "The list has been written to 'my_list.txt'\n"
     ]
    }
   ],
   "source": [
    "\n",
    "my_list = [\"apple\", \"banana\", \"rasberry\", \"pinapple\", \"orange\"]\n",
    "\n",
    "file_name = \"my_list.txt\"\n",
    "\n",
    "with open(file_name, 'w') as file:   # Open the file in write mode and write the list elements to it\n",
    "    for item in my_list:\n",
    "        file.write(item + '\\n')\n",
    "file.close\n",
    "\n",
    "\n",
    "print(f\"The list has been written to '{file_name}'\")\n"
   ]
  },
  {
   "cell_type": "markdown",
   "id": "452eb320",
   "metadata": {},
   "source": [
    "# Explain Inheritance in Python with an example?What is init? Or What Is A Constructor In Python? \n",
    "\n"
   ]
  },
  {
   "cell_type": "markdown",
   "id": "77e61a59",
   "metadata": {},
   "source": [
    "   Inheritance is a fundamental concept in object-oriented programming (OOP) that allows you to create a new class based on an existing class. In Python, inheritance is used to create a new class that inherits properties from an existing class. The existing class is referred to as the \"base class\" or \"parent class,\" and the new class is called the \"derived class\" or \"child class.\" Inheritance promotes code reuse and allowsyou to create a hierarchy of classes, where derived classes can inherit and extend the functionality of their parent classes.\n",
    "  The __init__ method is a constructor in Python. It's a special method that gets called when you create an instance of a class (an object). It initializes the object's attributes and performs any necessary setup for the object."
   ]
  },
  {
   "cell_type": "code",
   "execution_count": null,
   "id": "75b2de01",
   "metadata": {},
   "outputs": [],
   "source": []
  },
  {
   "cell_type": "markdown",
   "id": "a498a822",
   "metadata": {},
   "source": [
    "# Write a python program to find the longest words."
   ]
  },
  {
   "cell_type": "code",
   "execution_count": 17,
   "id": "efbdc1ae",
   "metadata": {},
   "outputs": [
    {
     "name": "stdout",
     "output_type": "stream",
     "text": [
      "Longest word(s): rasberrys\n",
      "Length: 9\n"
     ]
    }
   ],
   "source": [
    "# Function to find the longest words in a list\n",
    "def find_longest_words(word_list):\n",
    "    longest_words = []\n",
    "    max_length = 0\n",
    "\n",
    "    for word in word_list:\n",
    "        word = word.strip() \n",
    "        word_length = len(word)\n",
    "\n",
    "        if word_length > max_length:\n",
    "            longest_words = [word]\n",
    "            max_length = word_length\n",
    "        elif word_length == max_length:\n",
    "            longest_words.append(word)\n",
    "\n",
    "    return longest_words\n",
    "\n",
    "word_list = [\"apple\", \"banana\", \"rasberrys\", \"pinapple\", \"orange\"]\n",
    "\n",
    "# Call the function to find the longest words\n",
    "result = find_longest_words(word_list)\n",
    "\n",
    "# Print the longest words\n",
    "if result:\n",
    "    print(\"Longest word(s):\", \", \".join(result))\n",
    "    print(\"Length:\", len(result[0]))\n",
    "else:\n",
    "    print(\"No words in the list.\")\n"
   ]
  },
  {
   "cell_type": "markdown",
   "id": "cbbc881b",
   "metadata": {},
   "source": [
    "# How to Define a Class in Python? What Is Self? Give An Example Of A Python Class\n",
    ".\n"
   ]
  },
  {
   "cell_type": "markdown",
   "id": "0eef9700",
   "metadata": {},
   "source": [
    "To define a class in Python, you use the class keyword, followed by the name of the class and a colon. The class definition typically contains class attributes and methods. The self parameter is a reference to the instance of the class and is used to access instance-specific attributes and methods within the class."
   ]
  },
  {
   "cell_type": "code",
   "execution_count": null,
   "id": "ee7b34ac",
   "metadata": {},
   "outputs": [],
   "source": []
  },
  {
   "cell_type": "markdown",
   "id": "f856028b",
   "metadata": {},
   "source": [
    "# Write a Python class named Rectangle constructed by a length and width and a method which will compute the area of a rectangle"
   ]
  },
  {
   "cell_type": "code",
   "execution_count": null,
   "id": "509ca5ef",
   "metadata": {},
   "outputs": [],
   "source": []
  },
  {
   "cell_type": "markdown",
   "id": "e627277a",
   "metadata": {},
   "source": [
    "## Explain Exception handling? What is an Error in Python? "
   ]
  },
  {
   "cell_type": "markdown",
   "id": "02ce3aee",
   "metadata": {},
   "source": [
    "  * Exception handling - Exception handling is a programming technique that enables you to deal with errors and exceptional situations in a controlled manner. It allows you to detect and respond to issues that may arise during program execution without causing the program to crash. Exception handling involves the use of try, except, finally, and optionally else blocks.\n",
    "  * Errors in Python:\n",
    "\n",
    "    In Python, errors are divided into two main categories: syntax errors and exceptions.\n",
    "\n",
    "  1) Syntax Errors: These errors occur when you violate the rules of the Python language. They are typically detected by the Python interpreter during the parsing of your code. Syntax errors prevent your code from running at all and must be fixed before you can execute the program\n",
    "  2) Exceptions: Exceptions are runtime errors that occur during the execution of a program. They are not necessarily fatal, and you can handle them using exception handling techniques. Common built-in exceptions in Python include ZeroDivisionError, ValueError, TypeError, and FileNotFoundError,and others."
   ]
  },
  {
   "cell_type": "markdown",
   "id": "bed33f31",
   "metadata": {},
   "source": [
    "## How many except statements can a try-except block have? Name Some built-in exception classes: "
   ]
  },
  {
   "cell_type": "code",
   "execution_count": null,
   "id": "07b1d1b9",
   "metadata": {},
   "outputs": [],
   "source": []
  },
  {
   "cell_type": "markdown",
   "id": "9d89a755",
   "metadata": {},
   "source": [
    "## Write python program that user to enter only odd numbers, else will raise an exception. "
   ]
  },
  {
   "cell_type": "code",
   "execution_count": null,
   "id": "fb017904",
   "metadata": {},
   "outputs": [],
   "source": [
    "while True:\n",
    "    try:\n",
    "        user_input = int(input(\"Enter an odd number: \"))\n",
    "        if user_input % 2 == 0:\n",
    "            raise ValueError(\"Even number entered. Please enter an odd number.\")\n",
    "        else:\n",
    "            print(f\"You entered an odd number: {user_input}\")\n",
    "            break\n",
    "    except ValueError as e:\n",
    "        print(e)\n"
   ]
  },
  {
   "cell_type": "markdown",
   "id": "e8497bda",
   "metadata": {},
   "source": [
    "## Write a Python class named Circle constructed by a radius and two methods which will compute the area and the perimeter of a circle "
   ]
  },
  {
   "cell_type": "code",
   "execution_count": null,
   "id": "2a6c509d",
   "metadata": {},
   "outputs": [],
   "source": []
  },
  {
   "cell_type": "markdown",
   "id": "fc384afd",
   "metadata": {},
   "source": [
    "## Explain Inheritance in Python with an example? What is init? Or What Is A Constructor In Python? "
   ]
  },
  {
   "cell_type": "markdown",
   "id": "916506f7",
   "metadata": {},
   "source": [
    "   Inheritance is a fundamental concept in object-oriented programming (OOP) that allows you to create a new class based on an existing class. In Python, inheritance is used to create a new class that inherits properties from an existing class. The existing class is referred to as the \"base class\" or \"parent class,\" and the new class is called the \"derived class\" or \"child class.\" Inheritance promotes code reuse and allowsyou to create a hierarchy of classes, where derived classes can inherit and extend the functionality of their parent classes.\n",
    "  The __init__ method is a constructor in Python. It's a special method that gets called when you create an instance of a class (an object). It initializes the object's attributes and performs any necessary setup for the object."
   ]
  },
  {
   "cell_type": "markdown",
   "id": "ca9350b1",
   "metadata": {},
   "source": [
    "## What is Instantiation in terms of OOP terminology?\n",
    "\n"
   ]
  },
  {
   "cell_type": "markdown",
   "id": "2bc3b4cc",
   "metadata": {},
   "source": [
    "   In object-oriented programming (OOP) terminology, instantiation refers to the process of creating an instance (or object) of a class. When you instantiate a class, you create a specific, unique object that is based on the blueprint defined by that class.\n",
    "Class: A class is a blueprint or template that defines the structure and behavior of objects.\n",
    "Object (Instance): An object is a specific instance created from a class. It represents a real-world entity or concept and can have its own unique data and behavior while adhering to the class's blueprint.\n",
    "Instantiation: Instantiation is the process of creating an instance (object) of a class. It involves calling the class's constructor (often named __init__ in Python) to set initial values for the object's attributes."
   ]
  },
  {
   "cell_type": "code",
   "execution_count": null,
   "id": "59d11a69",
   "metadata": {},
   "outputs": [],
   "source": []
  }
 ],
 "metadata": {
  "kernelspec": {
   "display_name": "Python 3 (ipykernel)",
   "language": "python",
   "name": "python3"
  },
  "language_info": {
   "codemirror_mode": {
    "name": "ipython",
    "version": 3
   },
   "file_extension": ".py",
   "mimetype": "text/x-python",
   "name": "python",
   "nbconvert_exporter": "python",
   "pygments_lexer": "ipython3",
   "version": "3.11.4"
  },
  "vscode": {
   "interpreter": {
    "hash": "2043299c89c8cd0b4d1a6f5cf4529bd58e6a4e0fe3181a25e0d328c821cdc5c5"
   }
  }
 },
 "nbformat": 4,
 "nbformat_minor": 5
}

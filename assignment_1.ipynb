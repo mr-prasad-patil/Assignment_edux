{
 "cells": [
  {
   "cell_type": "markdown",
   "id": "fb933f7e",
   "metadata": {},
   "source": [
    "# Python Assignment - 1\n",
    "#### Carries 30 marks"
   ]
  },
  {
   "cell_type": "markdown",
   "id": "b4896514",
   "metadata": {},
   "source": [
    "### Write a Python program to sum of three given integers. However, if two values are equal sum will be zero."
   ]
  },
  {
   "cell_type": "code",
   "execution_count": null,
   "id": "230cee62",
   "metadata": {},
   "outputs": [],
   "source": [
    "#input the integers from the user \n",
    "num1 = int(input(\"Enter the frist integer: \"))\n",
    "num2 = int(input(\"Enter the seccond integer: \"))\n",
    "num3 = int(input(\"Enter the third integer: \"))\n",
    "\n",
    "# check if any number are equal\n",
    "if num1 == num2 or num2 == num3 or num1 == num3: #if two integer are equal ,set the sum is zero\n",
    "    result = 0\n",
    "else:\n",
    "    result = num1 + num2 + num3 #calculate the sum of all integers\n",
    "    \n",
    "    \n",
    "#display the result\n",
    "print(\"the sum is:\",result)\n",
    "\n",
    "    "
   ]
  },
  {
   "cell_type": "markdown",
   "id": "44498b23",
   "metadata": {},
   "source": [
    "### Write a Python program to test whether a passed letter is a vowel or not."
   ]
  },
  {
   "cell_type": "code",
   "execution_count": null,
   "id": "5800a1e9",
   "metadata": {},
   "outputs": [],
   "source": [
    "# Function to check if a letter is a vowel\n",
    "def is_vowel(letter):\n",
    "        # convert the letter to lowercase to handle both uppercase and lovercase input \n",
    "        letter = letter.lower()\n",
    "        \n",
    "        # check if the letter is one of the vowels\n",
    "        if letter == 'a' or letter == 'e' or letter == 'i' or letter == 'o' or letter == 'u':\n",
    "            return True \n",
    "        else:\n",
    "            return False\n",
    "        \n",
    "#input a letter from the user \n",
    "letter = input(\"Enter a letter: \")\n",
    "\n",
    "# check if the input letter is a vowel and display the result\n",
    "if is_vowel(letter):\n",
    "    print(f\"{letter} is a vowel.\")\n",
    "else:\n",
    "    print(f\"{letter} is not a vowel\")"
   ]
  },
  {
   "cell_type": "markdown",
   "id": "999e1c55",
   "metadata": {},
   "source": [
    "### Write python program that swap two number with temp variable and without temp variable."
   ]
  },
  {
   "cell_type": "code",
   "execution_count": null,
   "id": "71b08ddf",
   "metadata": {},
   "outputs": [],
   "source": [
    " # without using a temp variable \n",
    "    a = int(input(\"enter the value of a: \"))\n",
    "    b = int(input(\"enter the value of b:\"))\n",
    "    a = a+b\n",
    "    b = a-b\n",
    "    a = a-b\n",
    "    print(\"value of a:\",a)\n",
    "    print(\"value of b:\",b)"
   ]
  },
  {
   "cell_type": "code",
   "execution_count": null,
   "id": "300d0c58",
   "metadata": {},
   "outputs": [],
   "source": [
    "  #using a temp variable\n",
    "    a = int(input(\"enter the value of a: \"))\n",
    "    b = int(input(\"enter the value of b:\"))\n",
    "    temp = a\n",
    "    a = b \n",
    "    b = temp\n",
    "    print(\"value of a:\",a)\n",
    "    print(\"value of b:\",b)"
   ]
  },
  {
   "cell_type": "markdown",
   "id": "d9805ba4",
   "metadata": {},
   "source": [
    "### Write a Python program to calculate the length of a string."
   ]
  },
  {
   "cell_type": "code",
   "execution_count": null,
   "id": "df81befe",
   "metadata": {},
   "outputs": [],
   "source": [
    " #input a string from the user \n",
    "    input_string = input(\"Enter a string: \")\n",
    "\n",
    "    #calculate the legnth of the string\n",
    "    lenght = len(input_string)\n",
    "\n",
    "    #display the length of string \n",
    "    print(\"The length of the string is:\", lenght)\n"
   ]
  },
  {
   "cell_type": "markdown",
   "id": "99144e41",
   "metadata": {},
   "source": [
    "### Write a Python program to find whether a given number is even or odd,print out an appropriate message to the user."
   ]
  },
  {
   "cell_type": "code",
   "execution_count": null,
   "id": "dbbf15d7",
   "metadata": {},
   "outputs": [],
   "source": [
    " #input the number from the user\n",
    "    number = int(input(\"Enter the number: \"))\n",
    "\n",
    "    #check if the number is even or ood\n",
    "if number % 2 == 0:\n",
    "        print(f\"{number}is even. \")\n",
    "    else:\n",
    "        print(f\"{number}is ood.\")\n"
   ]
  },
  {
   "cell_type": "markdown",
   "id": "0a560977",
   "metadata": {},
   "source": [
    "### write a programme to find biggest number of given three values."
   ]
  },
  {
   "cell_type": "code",
   "execution_count": null,
   "id": "4f3fa091",
   "metadata": {},
   "outputs": [],
   "source": [
    "# Input three numbers from the user\n",
    "num1 = float(input(\"Enter the first number: \"))\n",
    "num2 = float(input(\"Enter the second number: \"))\n",
    "num3 = float(input(\"Enter the third number: \"))\n",
    "\n",
    "# Find the largest number using the max() function\n",
    "largest = max(num1, num2, num3)\n",
    "\n",
    "# Display the largest number\n",
    "print(\"The largest number is:\", largest)\n"
   ]
  },
  {
   "cell_type": "markdown",
   "id": "5327a33b",
   "metadata": {},
   "source": [
    "### Write a Python program that will return true if the two given integer values are equal or their sum or difference is 5."
   ]
  },
  {
   "cell_type": "code",
   "execution_count": null,
   "id": "1aa41bcc",
   "metadata": {},
   "outputs": [],
   "source": [
    "# Input two integer valiues from the user \n",
    "num1 = int(input(\"Enter the frist integer: \"))\n",
    "num2 = int(input(\"Enter the seccon integer: \"))\n",
    "\n",
    "#check the conditions\n",
    "if num1 == num2 or num1 + num2 == 5 or abs(num1 - num2) == 5:\n",
    "    result = True\n",
    "else:\n",
    "    result = False\n",
    "    \n",
    "# Display the result\n",
    "print(\"Result:\", result)"
   ]
  },
  {
   "cell_type": "markdown",
   "id": "b1075328",
   "metadata": {},
   "source": [
    "### Write a python program to sum of the first n positive integers."
   ]
  },
  {
   "cell_type": "code",
   "execution_count": null,
   "id": "5d474698",
   "metadata": {},
   "outputs": [],
   "source": [
    "# Get the value of n from the user\n",
    "n = int(input(\"Enter a positive integer n: \"))\n",
    "\n",
    "# Initialize a variable to store the sum\n",
    "sum_of_integers = 0\n",
    "\n",
    "# Check if n is a positive integer\n",
    "if n <= 0:\n",
    "    print(\"Please enter a positive integer.\")\n",
    "else:\n",
    "    # Calculate the sum of the first n positive integers\n",
    "    for i in range(1, n + 1):\n",
    "        sum_of_integers += i\n",
    "\n",
    "    # Print the result\n",
    "    print(f\"The sum of the first {n} positive integers is: {sum_of_integers}\")\n"
   ]
  },
  {
   "cell_type": "markdown",
   "id": "e480000b",
   "metadata": {},
   "source": [
    "### Write a Python program to calculate the length of a string."
   ]
  },
  {
   "cell_type": "code",
   "execution_count": null,
   "id": "e154e64e",
   "metadata": {},
   "outputs": [],
   "source": [
    "# Get a string input from the user\n",
    "input_string = input(\"Enter a string: \")\n",
    "\n",
    "# Calculate the length of the string\n",
    "string_length = len(input_string)\n",
    "\n",
    "# Print the result\n",
    "print(f\"The length of the string is: {string_length}\")\n"
   ]
  },
  {
   "cell_type": "markdown",
   "id": "83f1be28",
   "metadata": {},
   "source": [
    "### What is the purpose continue statement in python?"
   ]
  },
  {
   "cell_type": "markdown",
   "id": "d7956745",
   "metadata": {},
   "source": [
    "In Python, the continue statement is used within loops such as for or while loops to control the flow of the loop. Its primary purpose is to skip the current iteration of the loop and move on to the next iteration. When the continue statement is encountered, the remaining code inside the current iteration is skipped, and the loop proceeds with the next iteration."
   ]
  },
  {
   "cell_type": "markdown",
   "id": "728d8b7a",
   "metadata": {},
   "source": [
    "### Write a Python program to add 'ing' at the end of a given string (length should be at least 3). If the given string already ends with 'ing' then add 'ly' instead if the string length of the given string is less than 3, leave it unchanged.\n"
   ]
  },
  {
   "cell_type": "code",
   "execution_count": null,
   "id": "c90c977e",
   "metadata": {},
   "outputs": [],
   "source": [
    "# Get a string input from the user\n",
    "input_string = input(\"Enter a string: \")\n",
    "\n",
    "# Check if the string length is at least 3 characters\n",
    "if len(input_string) >= 3:\n",
    "    # Check if the string already ends with 'ing'\n",
    "    if input_string.endswith('ing'):\n",
    "        modified_string = input_string + 'ly'\n",
    "    else:\n",
    "        modified_string = input_string + 'ing'\n",
    "else:\n",
    "    # If the string length is less than 3, leave it unchanged\n",
    "    modified_string = input_string\n",
    "\n",
    "# Print the modified string\n",
    "print(\"Modified string:\", modified_string)\n"
   ]
  },
  {
   "cell_type": "markdown",
   "id": "78208ba5",
   "metadata": {},
   "source": [
    "### Write a Python program to find the first appearance of the substring 'not' and 'poor' from a given string, if 'not' follows the 'poor', replace the whole 'not'...'poor' substring with 'good'. Return the resulting string"
   ]
  },
  {
   "cell_type": "code",
   "execution_count": null,
   "id": "7d8711c7",
   "metadata": {},
   "outputs": [],
   "source": [
    "# Get a string input from the user\n",
    "input_string = input(\"Enter a string: \")\n",
    "\n",
    "# Find the index of 'not' and 'poor' in the input string\n",
    "index_not = input_string.find('not')\n",
    "index_poor = input_string.find('poor')\n",
    "\n",
    "# Check if 'not' and 'poor' both exist in the string and 'not' follows 'poor'\n",
    "if index_not != -1 and index_poor != -1 and index_not > index_poor:\n",
    "    # Replace the 'not'...'poor' substring with 'good'\n",
    "    modified_string = input_string[:index_poor] + 'good' + input_string[index_not + 3:]\n",
    "else:\n",
    "    # If conditions are not met, return the original string\n",
    "    modified_string = input_string\n",
    "\n",
    "# Print the modified string\n",
    "print(\"Modified string:\", modified_string)\n"
   ]
  },
  {
   "cell_type": "markdown",
   "id": "7f264574",
   "metadata": {},
   "source": [
    "### Write a Python function to insert a string in the middle of a string."
   ]
  },
  {
   "cell_type": "code",
   "execution_count": null,
   "id": "f4a4cffe",
   "metadata": {},
   "outputs": [],
   "source": [
    "def insert_string_middle(base_string, insert_string):\n",
    "    # Calculate the middle index of the base string\n",
    "    middle_index = len(base_string) // 2\n",
    "\n",
    "    # Insert the string in the middle\n",
    "    result_string = base_string[:middle_index] + insert_string + base_string[middle_index:]\n",
    "\n",
    "    return result_string\n",
    "\n",
    "# Example usage:\n",
    "base_string = \"Hello, world!\"\n",
    "insert_string = \"Python\"\n",
    "result = insert_string_middle(base_string, insert_string)\n",
    "print(result)\n"
   ]
  },
  {
   "cell_type": "markdown",
   "id": "5435ccd0",
   "metadata": {},
   "source": [
    "### reverses a string if its length is a multiple of 4."
   ]
  },
  {
   "cell_type": "code",
   "execution_count": null,
   "id": "e3554c81",
   "metadata": {},
   "outputs": [],
   "source": [
    "def reverse_string_if_multiple_of_4(input_string):\n",
    "    # Check if the length of the input string is a multiple of 4\n",
    "    if len(input_string) % 4 == 0:\n",
    "        # Reverse the string\n",
    "        reversed_string = input_string[::-1]\n",
    "        return reversed_string\n",
    "    else:\n",
    "        # Return the original string\n",
    "        return input_string\n",
    "\n",
    "# Example usage:\n",
    "input_string = \"abcdef\"\n",
    "result = reverse_string_if_multiple_of_4(input_string)\n",
    "print(result)  # Output: \"fedcba\"\n"
   ]
  },
  {
   "cell_type": "markdown",
   "id": "48d8671f",
   "metadata": {},
   "source": [
    "### Write a Python program to get a string made of the first 2 and the last 2 chars from a given a string. If the string length is less than 2, return instead of the empty string."
   ]
  },
  {
   "cell_type": "code",
   "execution_count": null,
   "id": "b9907390",
   "metadata": {},
   "outputs": [],
   "source": [
    "def get_first_and_last_2_chars(input_string):\n",
    "    # Check if the string length is less than 2\n",
    "    if len(input_string) < 2:\n",
    "        return \"\"\n",
    "\n",
    "    # Extract the first two and last two characters\n",
    "    result_string = input_string[:2] + input_string[-2:]\n",
    "    return result_string\n",
    "\n",
    "# Example usage:\n",
    "input_string = input(\"Enter a string: \")\n",
    "result = get_first_and_last_2_chars(input_string)\n",
    "print(\"Result:\", result)\n"
   ]
  },
  {
   "cell_type": "markdown",
   "id": "f0b39584",
   "metadata": {},
   "source": [
    "### Write a Python program to get a single string from two given strings, separated by a space and swap the first two characters of each string."
   ]
  },
  {
   "cell_type": "code",
   "execution_count": null,
   "id": "e3e383d3",
   "metadata": {},
   "outputs": [],
   "source": [
    "def swap_and_combine_strings(str1, str2):\n",
    "    # Check if both strings have at least 2 characters\n",
    "    if len(str1) >= 2 and len(str2) >= 2:\n",
    "        # Swap the first two characters of each string and combine them with a space in between\n",
    "        result_string = str2[:2] + str1[2:] + ' ' + str1[:2] + str2[2:]\n",
    "        return result_string\n",
    "    else:\n",
    "        # If either string has less than 2 characters, return an empty string\n",
    "        return \"\"\n",
    "\n",
    "# Example usage:\n",
    "string1 = input(\"Enter the first string: \")\n",
    "string2 = input(\"Enter the second string: \")\n",
    "\n",
    "result = swap_and_combine_strings(string1, string2)\n",
    "print(\"Result:\", result)\n"
   ]
  },
  {
   "cell_type": "markdown",
   "id": "323a62d0",
   "metadata": {},
   "source": [
    "### Write a Python program to get the Fibonacci series of given range."
   ]
  },
  {
   "cell_type": "code",
   "execution_count": null,
   "id": "057b2df5",
   "metadata": {},
   "outputs": [],
   "source": [
    "# Function to generate the Fibonacci series within a given range\n",
    "def fibonacci_series_in_range(n):\n",
    "    fibonacci_series = []\n",
    "    a, b = 0, 1\n",
    "\n",
    "    while a <= n:\n",
    "        fibonacci_series.append(a)\n",
    "        a, b = b, a + b\n",
    "\n",
    "    return fibonacci_series\n",
    "\n",
    "# Get the upper limit of the range from the user\n",
    "range_limit = int(input(\"Enter the upper limit of the range: \"))\n",
    "\n",
    "# Generate the Fibonacci series within the given range\n",
    "result = fibonacci_series_in_range(range_limit)\n",
    "\n",
    "# Print the result\n",
    "print(\"Fibonacci series within the range:\", result)\n"
   ]
  },
  {
   "cell_type": "markdown",
   "id": "d9013007",
   "metadata": {},
   "source": [
    "### Write a Python program to get the Factorial number of given number"
   ]
  },
  {
   "cell_type": "code",
   "execution_count": null,
   "id": "da6371ef",
   "metadata": {},
   "outputs": [],
   "source": [
    "# Function to calculate the factorial of a number\n",
    "def factorial(n):\n",
    "    if n < 0:\n",
    "        return \"Factorial is undefined for negative numbers\"\n",
    "    elif n == 0 or n == 1:\n",
    "        return 1\n",
    "    else:\n",
    "        result = 1\n",
    "        for i in range(2, n + 1):\n",
    "            result *= i\n",
    "        return result\n",
    "\n",
    "# Get the number from the user\n",
    "num = int(input(\"Enter a non-negative integer: \"))\n",
    "\n",
    "# Calculate the factorial\n",
    "fact = factorial(num)\n",
    "\n",
    "# Print the result\n",
    "print(f\"The factorial of {num} is: {fact}\")\n"
   ]
  },
  {
   "cell_type": "markdown",
   "id": "81819365",
   "metadata": {},
   "source": [
    "### Write a Python program to check if a number is positive, negative or zero"
   ]
  },
  {
   "cell_type": "code",
   "execution_count": null,
   "id": "fc38fb6e",
   "metadata": {},
   "outputs": [],
   "source": [
    "# Get a number input from the user\n",
    "num = float(input(\"Enter a number: \"))\n",
    "\n",
    "# Check if the number is positive, negative, or zero\n",
    "if num > 0:\n",
    "    print(\"The number is positive.\")\n",
    "elif num < 0:\n",
    "    print(\"The number is negative.\")\n",
    "else:\n",
    "    print(\"The number is zero.\")\n"
   ]
  },
  {
   "cell_type": "markdown",
   "id": "7defed1a",
   "metadata": {},
   "source": [
    "##  How memory is managed in Python?\n"
   ]
  },
  {
   "cell_type": "markdown",
   "id": "26d179e9",
   "metadata": {},
   "source": [
    "*) Memory management in Python is carried out by the Python memory manager, which handles the allocation and deallocation of memory for objects and data structures in a Python program. Python's memory management is built on top of the memory management capabilities provided by the underlying operating system. Here are some key aspects of memory management in Python:\n",
    "1) Reference Counting\n",
    "2) Garbage Collection\n",
    "3) Memory Allocation\n",
    "4) Memory Deallocation\n",
    "5) Memory Fragmentation\n",
    "\n"
   ]
  }
 ],
 "metadata": {
  "kernelspec": {
   "display_name": "Python 3 (ipykernel)",
   "language": "python",
   "name": "python3"
  },
  "language_info": {
   "codemirror_mode": {
    "name": "ipython",
    "version": 3
   },
   "file_extension": ".py",
   "mimetype": "text/x-python",
   "name": "python",
   "nbconvert_exporter": "python",
   "pygments_lexer": "ipython3",
   "version": "3.11.4"
  }
 },
 "nbformat": 4,
 "nbformat_minor": 5
}
